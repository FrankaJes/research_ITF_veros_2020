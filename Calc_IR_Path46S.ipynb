{
 "cells": [
  {
   "cell_type": "markdown",
   "metadata": {},
   "source": [
    "In this notebook, we calculate Godfrey's Island Rule and the Amended Island Rule for Path 46S.\n",
    "\n",
    "For our simulations we find the following estimates for the ITF:\n",
    "\n",
    "#WIND1\n",
    "\n",
    "GIR_Path42S : 17.860207\n",
    "\n",
    "GIR_Path46S : 21.005662\n",
    " \n",
    " \n",
    "#WIND2\n",
    "\n",
    "GIR_Path42S : 35.720413\n",
    "\n",
    "GIR_Path46S : 42.011324\n",
    "\n"
   ]
  },
  {
   "cell_type": "code",
   "execution_count": 67,
   "metadata": {},
   "outputs": [],
   "source": [
    "'loading the essentials'\n",
    "import numpy as np\n",
    "import pandas as pd\n",
    "import matplotlib.pyplot as plt\n",
    "import xarray as xr"
   ]
  },
  {
   "cell_type": "code",
   "execution_count": 82,
   "metadata": {},
   "outputs": [],
   "source": [
    "'open the datasets (averages) you use'\n",
    "w1 = xr.open_dataset('wind1_TOTAL_1800.nc') \n",
    "w2 = xr.open_dataset('wind2_TOTAL_1900.nc') "
   ]
  },
  {
   "cell_type": "code",
   "execution_count": 83,
   "metadata": {},
   "outputs": [],
   "source": [
    "'choose for which data set you want to calculate the Island Rule'\n",
    "w = w1"
   ]
  },
  {
   "cell_type": "code",
   "execution_count": 84,
   "metadata": {},
   "outputs": [],
   "source": [
    "'''\n",
    "selecht the surface wind stress data, \n",
    "when you use constant wind forcing, it's not important which timestep you take, we take the last of the set here\n",
    "'''\n",
    "wx0 = w.surface_taux[-1]\n",
    "wy0 = w.surface_tauy[-1]"
   ]
  },
  {
   "cell_type": "code",
   "execution_count": 86,
   "metadata": {},
   "outputs": [],
   "source": [
    "'Definition to determine the spacing of each gridcel in meters to determine dl'\n",
    "Ra = 6370000 #earth radius in Veros\n",
    "\n",
    "def rdeg(deg):\n",
    "    return 2*np.pi*Ra*np.cos(deg*np.pi/180)/90"
   ]
  },
  {
   "cell_type": "code",
   "execution_count": 87,
   "metadata": {},
   "outputs": [],
   "source": [
    "'Integrate the wind stress for certain segments DA, BC, AB and CD'\n",
    "#DA\n",
    "pathDA = -rdeg(0)*(wy0[18,32] + wy0[17,32] + wy0[16,30] + wy0[15,29] + wy0[14,28] + wy0[13,28] + wy0[12,28] + wy0[11,28] + wy0[10,33] + wy0[9,34] + wy0[8,35]) + np.sum(wx0[11,28:32])*rdeg(-34) + wx0[10,33]*rdeg(-38) +  wx0[9,34]*rdeg(-42) -(wx0[17,31]*rdeg(-10) + wx0[17,30]*rdeg(-10) + wx0[16,29]*rdeg(-14) + wx0[15,28]*rdeg(-18))\n",
    "\n",
    "#BC\n",
    "pathBC = rdeg(0)*(wy0[8,71] + wy0[9,71] + wy0[10,71] + wy0[11,71] + wy0[12,71] + wy0[13,71] + wy0[14,71] \n",
    "             + wy0[15,70] + wy0[16,70] + wy0[17,69] + wy0[18,69]) - (rdeg(-18)*wx0[15,70] + rdeg(-10)*(wx0[17,69]))\n",
    "\n",
    "#AB \n",
    "pathAB = np.sum(wx0[8,35:71])*rdeg(-46)\n",
    "\n",
    "#CD \n",
    "pathCD = -np.sum(wx0[19,32:69])*rdeg(-2)"
   ]
  },
  {
   "cell_type": "code",
   "execution_count": 88,
   "metadata": {},
   "outputs": [],
   "source": [
    "'Transfer result to Sverdrups (Sv) by deviding it with 10^6'\n",
    "windAB = (pathAB)/1000000 \n",
    "windBC = (pathBC)/1000000 \n",
    "windCD = (pathCD)/1000000 \n",
    "windDA = (pathDA)/1000000 "
   ]
  },
  {
   "cell_type": "code",
   "execution_count": 90,
   "metadata": {},
   "outputs": [],
   "source": [
    "'determine the coriolis factor '\n",
    "f_N = -.051/10000     #at 2S\n",
    "f_S = -1.046/10000    #at 46S\n",
    "\n",
    "cor = (f_N - f_S)"
   ]
  },
  {
   "cell_type": "code",
   "execution_count": 91,
   "metadata": {},
   "outputs": [
    {
     "name": "stdout",
     "output_type": "stream",
     "text": [
      "21.005661805399455\n"
     ]
    }
   ],
   "source": [
    "'First four terms give contribution of certain segments, ITFFF gives the total flow predicted by Godfreys Island Rule'\n",
    "ITFAB = (1/cor)*windAB/1000\n",
    "ITFBC = (1/cor)*windBC/1000\n",
    "ITFCD = (1/cor)*windCD/1000\n",
    "ITFDA = (1/cor)*windDA/1000\n",
    "\n",
    "ITFFF = np.sum([ITFAB,ITFBC,ITFCD,ITFDA])\n",
    "print(ITFFF)"
   ]
  },
  {
   "cell_type": "code",
   "execution_count": null,
   "metadata": {},
   "outputs": [],
   "source": []
  },
  {
   "cell_type": "code",
   "execution_count": null,
   "metadata": {},
   "outputs": [],
   "source": []
  },
  {
   "cell_type": "code",
   "execution_count": null,
   "metadata": {},
   "outputs": [],
   "source": []
  },
  {
   "cell_type": "code",
   "execution_count": null,
   "metadata": {},
   "outputs": [],
   "source": []
  },
  {
   "cell_type": "code",
   "execution_count": null,
   "metadata": {},
   "outputs": [],
   "source": []
  }
 ],
 "metadata": {
  "kernelspec": {
   "display_name": "Python 3",
   "language": "python",
   "name": "python3"
  },
  "language_info": {
   "codemirror_mode": {
    "name": "ipython",
    "version": 3
   },
   "file_extension": ".py",
   "mimetype": "text/x-python",
   "name": "python",
   "nbconvert_exporter": "python",
   "pygments_lexer": "ipython3",
   "version": "3.7.6"
  }
 },
 "nbformat": 4,
 "nbformat_minor": 2
}
